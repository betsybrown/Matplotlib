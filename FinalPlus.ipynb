{
 "cells": [
  {
   "cell_type": "code",
   "execution_count": 1,
   "metadata": {
    "scrolled": false
   },
   "outputs": [
    {
     "name": "stdout",
     "output_type": "stream",
     "text": [
      "<class 'pandas.core.frame.DataFrame'>\n",
      "RangeIndex: 120 entries, 0 to 119\n",
      "Data columns (total 3 columns):\n",
      "city            120 non-null object\n",
      "driver_count    120 non-null int64\n",
      "type            120 non-null object\n",
      "dtypes: int64(1), object(2)\n",
      "memory usage: 2.9+ KB\n",
      "<class 'pandas.core.frame.DataFrame'>\n",
      "Int64Index: 2375 entries, 0 to 2374\n",
      "Data columns (total 6 columns):\n",
      "city            2375 non-null object\n",
      "driver_count    2375 non-null int64\n",
      "type            2375 non-null object\n",
      "date            2375 non-null object\n",
      "fare            2375 non-null float64\n",
      "ride_id         2375 non-null int64\n",
      "dtypes: float64(1), int64(2), object(3)\n",
      "memory usage: 129.9+ KB\n"
     ]
    },
    {
     "data": {
      "text/html": [
       "<div>\n",
       "<style scoped>\n",
       "    .dataframe tbody tr th:only-of-type {\n",
       "        vertical-align: middle;\n",
       "    }\n",
       "\n",
       "    .dataframe tbody tr th {\n",
       "        vertical-align: top;\n",
       "    }\n",
       "\n",
       "    .dataframe thead th {\n",
       "        text-align: right;\n",
       "    }\n",
       "</style>\n",
       "<table border=\"1\" class=\"dataframe\">\n",
       "  <thead>\n",
       "    <tr style=\"text-align: right;\">\n",
       "      <th></th>\n",
       "      <th>city</th>\n",
       "      <th>driver_count</th>\n",
       "      <th>type</th>\n",
       "      <th>date</th>\n",
       "      <th>fare</th>\n",
       "      <th>ride_id</th>\n",
       "    </tr>\n",
       "  </thead>\n",
       "  <tbody>\n",
       "    <tr>\n",
       "      <th>0</th>\n",
       "      <td>Richardfort</td>\n",
       "      <td>38</td>\n",
       "      <td>Urban</td>\n",
       "      <td>2018-02-24 08:40:38</td>\n",
       "      <td>13.93</td>\n",
       "      <td>5628545007794</td>\n",
       "    </tr>\n",
       "    <tr>\n",
       "      <th>1</th>\n",
       "      <td>Richardfort</td>\n",
       "      <td>38</td>\n",
       "      <td>Urban</td>\n",
       "      <td>2018-02-13 12:46:07</td>\n",
       "      <td>14.00</td>\n",
       "      <td>910050116494</td>\n",
       "    </tr>\n",
       "    <tr>\n",
       "      <th>2</th>\n",
       "      <td>Richardfort</td>\n",
       "      <td>38</td>\n",
       "      <td>Urban</td>\n",
       "      <td>2018-02-16 13:52:19</td>\n",
       "      <td>17.92</td>\n",
       "      <td>820639054416</td>\n",
       "    </tr>\n",
       "    <tr>\n",
       "      <th>3</th>\n",
       "      <td>Richardfort</td>\n",
       "      <td>38</td>\n",
       "      <td>Urban</td>\n",
       "      <td>2018-02-01 20:18:28</td>\n",
       "      <td>10.26</td>\n",
       "      <td>9554935945413</td>\n",
       "    </tr>\n",
       "    <tr>\n",
       "      <th>4</th>\n",
       "      <td>Richardfort</td>\n",
       "      <td>38</td>\n",
       "      <td>Urban</td>\n",
       "      <td>2018-04-17 02:26:37</td>\n",
       "      <td>23.00</td>\n",
       "      <td>720020655850</td>\n",
       "    </tr>\n",
       "  </tbody>\n",
       "</table>\n",
       "</div>"
      ],
      "text/plain": [
       "          city  driver_count   type                 date   fare        ride_id\n",
       "0  Richardfort            38  Urban  2018-02-24 08:40:38  13.93  5628545007794\n",
       "1  Richardfort            38  Urban  2018-02-13 12:46:07  14.00   910050116494\n",
       "2  Richardfort            38  Urban  2018-02-16 13:52:19  17.92   820639054416\n",
       "3  Richardfort            38  Urban  2018-02-01 20:18:28  10.26  9554935945413\n",
       "4  Richardfort            38  Urban  2018-04-17 02:26:37  23.00   720020655850"
      ]
     },
     "execution_count": 1,
     "metadata": {},
     "output_type": "execute_result"
    }
   ],
   "source": [
    "%matplotlib inline\n",
    "# Dependencies and Setup\n",
    "import matplotlib.pyplot as plt\n",
    "import pandas as pd\n",
    "import numpy as np\n",
    "\n",
    "# File to Load (Remember to change these)\n",
    "city_data = \"data/city_data.csv\"\n",
    "ride_data = \"data/ride_data.csv\"\n",
    "\n",
    "# Read the City and Ride Data\n",
    "city_data = pd.read_csv(city_data)\n",
    "ride_data = pd.read_csv(ride_data)\n",
    "city_data.info()\n",
    "\n",
    "# Combine the data into a single dataset\n",
    "pydata = pd.merge(city_data, ride_data, how='outer', on=['city'])\n",
    "\n",
    "# Display the data table for preview\n",
    "#pydata.describe()\n",
    "pydata.info()\n",
    "#ride_data.head()\n",
    "\n",
    "pydata.head()\n"
   ]
  },
  {
   "cell_type": "code",
   "execution_count": 2,
   "metadata": {
    "scrolled": true
   },
   "outputs": [
    {
     "data": {
      "text/plain": [
       "array(['Urban', 'Suburban', 'Rural'], dtype=object)"
      ]
     },
     "execution_count": 2,
     "metadata": {},
     "output_type": "execute_result"
    }
   ],
   "source": [
    "pydata['type'].unique()\n"
   ]
  },
  {
   "cell_type": "code",
   "execution_count": 3,
   "metadata": {},
   "outputs": [
    {
     "data": {
      "text/plain": [
       "2375"
      ]
     },
     "execution_count": 3,
     "metadata": {},
     "output_type": "execute_result"
    }
   ],
   "source": [
    "pydata['ride_id'].count()"
   ]
  },
  {
   "cell_type": "markdown",
   "metadata": {},
   "source": [
    "## Bubble Plot of Ride Sharing Data"
   ]
  },
  {
   "cell_type": "code",
   "execution_count": 4,
   "metadata": {
    "scrolled": false
   },
   "outputs": [
    {
     "data": {
      "text/plain": [
       "24050"
      ]
     },
     "execution_count": 4,
     "metadata": {},
     "output_type": "execute_result"
    }
   ],
   "source": [
    "# Obtain the x and y coordinates for each of the three city types\n",
    "cities = pydata.groupby([\"city\"])\n",
    "#cities.head()\n",
    "#total_rides_city = cities['ride_id'].count()\n",
    "#total_rides_city\n",
    "#total_fares_city = cities['fare'].value_counts()\n",
    "#total_rides_city = cities['ride_id'].count()\n",
    "total_drivers_city = cities['driver_count'].sum()\n",
    "total_drivers_city\n",
    "\n",
    "urban_data = pydata.loc[pydata['type']=='Urban',:]\n",
    "urban_rides=urban_data.groupby('city')\n",
    "urban_fares=urban_rides['fare'].mean()\n",
    "\n",
    "urban_total_rides=urban_rides['ride_id'].count()\n",
    "urban_drivers=(urban_rides['driver_count'].max())*10\n",
    "urban_drivers.sum()\n",
    "\n",
    "\n",
    "\n"
   ]
  },
  {
   "cell_type": "code",
   "execution_count": 5,
   "metadata": {},
   "outputs": [
    {
     "data": {
      "text/plain": [
       "29730"
      ]
     },
     "execution_count": 5,
     "metadata": {},
     "output_type": "execute_result"
    }
   ],
   "source": [
    "total_drivers_city = cities['driver_count'].min()*10\n",
    "total_drivers_city.sum()"
   ]
  },
  {
   "cell_type": "code",
   "execution_count": 6,
   "metadata": {},
   "outputs": [
    {
     "data": {
      "text/plain": [
       "4900"
      ]
     },
     "execution_count": 6,
     "metadata": {},
     "output_type": "execute_result"
    }
   ],
   "source": [
    "Suburban_data = pydata.loc[pydata['type']=='Suburban',:]\n",
    "\n",
    "Suburban_rides=Suburban_data.groupby('city')\n",
    "suburban_fares=Suburban_rides['fare'].mean()\n",
    "#suburban_fares\n",
    "suburban_total_rides=Suburban_rides['ride_id'].count()\n",
    "suburban_total_rides\n",
    "suburban_drivers=(Suburban_rides['driver_count'].max())*10\n",
    "suburban_drivers.sum()\n",
    "\n",
    "\n",
    "#suburban_drivers"
   ]
  },
  {
   "cell_type": "code",
   "execution_count": 7,
   "metadata": {},
   "outputs": [
    {
     "data": {
      "text/plain": [
       "780"
      ]
     },
     "execution_count": 7,
     "metadata": {},
     "output_type": "execute_result"
    }
   ],
   "source": [
    "#rural_data = pydata.loc[pydata['type']=='Rural',:]\n",
    "rural_data = pydata.loc[pydata['type']=='Rural',:]\n",
    "\n",
    "rural_rides=rural_data.groupby('city')\n",
    "rural_fares=rural_rides['fare'].mean()\n",
    "#rural_fares\n",
    "rural_total_rides=rural_rides['ride_id'].count()\n",
    "#rural_total_rides\n",
    "rural_drivers=(rural_rides['driver_count'].max())*10\n",
    "rural_drivers.sum()\n",
    "#rural_drivers"
   ]
  },
  {
   "cell_type": "code",
   "execution_count": 8,
   "metadata": {},
   "outputs": [
    {
     "data": {
      "image/png": "[encoded data removed]",
      "text/plain": [
       "<Figure size 432x288 with 1 Axes>"
      ]
     },
     "metadata": {
      "needs_background": "light"
     },
     "output_type": "display_data"
    }
   ],
   "source": [
    "\n",
    "urban=plt.scatter(urban_total_rides, urban_fares, marker=\"o\", c='coral', edgecolor=\"Black\",\n",
    "            s=urban_drivers, alpha=0.75)\n",
    "suburban=plt.scatter(suburban_total_rides, suburban_fares, marker=\"o\", c=\"lightblue\", edgecolors=\"black\",\n",
    "            s=suburban_drivers, alpha=0.75)\n",
    "rural=plt.scatter(rural_total_rides, rural_fares, marker=\"o\", c=\"gold\", edgecolors=\"black\",\n",
    "            s=rural_drivers, alpha=0.75)\n",
    "plt.grid()\n",
    "\n",
    "\n",
    "plt.title(\"Pyber Ride Sharing Data (2016)\")\n",
    "plt.ylabel(\"Average Fares ($)\")\n",
    "plt.xlabel(\"Total Number of Rides (Per City)\")\n",
    "\n",
    "# legend handles\n",
    "colors = [\"coral\", \"lightblue\", \"gold\"]\n",
    "edge = [\"black\", \"black\", \"black\"]\n",
    "cities = [\"Urban\", \"Suburban\", \"Rural\"]\n",
    "handlelist = [plt.plot([], marker=\"o\", ls=\"\", color=color)[0] for color in colors]\n",
    "plt.legend(handlelist,cities,title='City Types:',loc=\"best\")\n",
    "plt.text(45, 30, 'Note:\\nCircle size correlates to driver count per city.', rotation=0)\n",
    "\n",
    "\n",
    "plt.savefig(\"../Images/PyberScatter.png\")\n",
    "\n",
    "plt.show()\n",
    "#plt.legend(title='City Types:',loc=\"best\")\n",
    "#plt.legend(title='Note: Circle size correlates to driver count per city.')"
   ]
  },
  {
   "cell_type": "markdown",
   "metadata": {},
   "source": [
    "## Total Fares by City Type"
   ]
  },
  {
   "cell_type": "code",
   "execution_count": 9,
   "metadata": {},
   "outputs": [
    {
     "data": {
      "text/plain": [
       "39854.38000000001"
      ]
     },
     "execution_count": 9,
     "metadata": {},
     "output_type": "execute_result"
    }
   ],
   "source": [
    "# Calculate Type Percents\n",
    "#pydata.describe()\n",
    "#pydata.info()\n",
    "total_fares = pydata['fare'].sum()\n",
    "#total_fares\n",
    "#ride_data.head()\n",
    "rural_fares=rural_rides['fare'].sum()\n",
    "rural_faresTTL = rural_fares.sum()\n",
    "rural_faresTTL\n",
    "\n",
    "suburban_fares=Suburban_rides['fare'].sum()\n",
    "suburban_faresTTL = suburban_fares.sum()\n",
    "suburban_faresTTL\n",
    "\n",
    "urban_fares=urban_rides['fare'].sum()\n",
    "urban_faresTTL = urban_fares.sum()\n",
    "urban_faresTTL\n",
    "#pydata.head()\n",
    "# Build Pie Chart\n",
    "\n",
    "# Save Figure\n"
   ]
  },
  {
   "cell_type": "code",
   "execution_count": 10,
   "metadata": {},
   "outputs": [
    {
     "data": {
      "text/plain": [
       "0.63"
      ]
     },
     "execution_count": 10,
     "metadata": {},
     "output_type": "execute_result"
    }
   ],
   "source": [
    "urban_fare_percent = (urban_faresTTL/total_fares).round(2)\n",
    "urban_fare_percent"
   ]
  },
  {
   "cell_type": "code",
   "execution_count": 11,
   "metadata": {},
   "outputs": [
    {
     "data": {
      "text/plain": [
       "0.3"
      ]
     },
     "execution_count": 11,
     "metadata": {},
     "output_type": "execute_result"
    }
   ],
   "source": [
    "suburban_fare_percent = (suburban_faresTTL/total_fares).round(2)\n",
    "suburban_fare_percent"
   ]
  },
  {
   "cell_type": "code",
   "execution_count": 12,
   "metadata": {},
   "outputs": [
    {
     "data": {
      "text/plain": [
       "0.07"
      ]
     },
     "execution_count": 12,
     "metadata": {},
     "output_type": "execute_result"
    }
   ],
   "source": [
    "rural_fare_percent = (rural_faresTTL/total_fares).round(2)\n",
    "rural_fare_percent"
   ]
  },
  {
   "cell_type": "code",
   "execution_count": 13,
   "metadata": {
    "scrolled": true
   },
   "outputs": [
    {
     "data": {
      "image/png": "[encoded data removed]",
      "text/plain": [
       "<Figure size 432x288 with 1 Axes>"
      ]
     },
     "metadata": {},
     "output_type": "display_data"
    }
   ],
   "source": [
    "# Labels for the sections of our pie chart\n",
    "\n",
    "labels = [\"Urban\", \"Suburban\", \"Rural\"]\n",
    "\n",
    "\n",
    "# The values of each section of the pie chart\n",
    "sizes = [urban_fare_percent, suburban_fare_percent, rural_fare_percent]\n",
    "\n",
    "\n",
    "\n",
    "# The colors of each section of the pie chart\n",
    "\n",
    "colors = [\"coral\", \"lightskyblue\", \"gold\"]\n",
    "\n",
    "\n",
    "# Tells matplotlib to seperate the \"Python\" section from the others\n",
    "\n",
    "explode = (0.1, 0, 0)\n",
    "\n",
    "# Creates the pie chart based upon the values above\n",
    "\n",
    "# Automatically finds the percentages of each part of the pie chart\n",
    "\n",
    "plt.pie(sizes, explode=explode, labels=labels, colors=colors,\n",
    "        \n",
    "\tautopct=\"%1.1f%%\", shadow=True, startangle=300)\n",
    "\n",
    "# Tells matplotlib that we want a pie chart with equal axes\n",
    "\n",
    "plt.axis(\"equal\")\n",
    "plt.title(\"% of Total Fares by City Type\")\n",
    "plt.savefig(\"../Images/TotalFaresbyCity.png\")\n",
    "plt.show()"
   ]
  },
  {
   "cell_type": "markdown",
   "metadata": {},
   "source": [
    "## Total Rides by City Type"
   ]
  },
  {
   "cell_type": "code",
   "execution_count": 14,
   "metadata": {},
   "outputs": [
    {
     "data": {
      "image/png": "[encoded data removed]",
      "text/plain": [
       "<Figure size 432x288 with 1 Axes>"
      ]
     },
     "metadata": {},
     "output_type": "display_data"
    }
   ],
   "source": [
    "# Calculate Ride Percents\n",
    "total_rides = pydata['ride_id'].value_counts()\n",
    "rides_TTL = total_rides.sum()\n",
    "rides_TTL\n",
    "\n",
    "\n",
    "urban_total_rides=urban_rides['ride_id'].count()\n",
    "urban_ride_TTL = urban_total_rides.sum()\n",
    "TTL_urban = (urban_total_rides.sum()/rides_TTL).round(2)\n",
    "TTL_urban\n",
    "\n",
    "suburban_total_rides=Suburban_rides['ride_id'].count()\n",
    "suburban_ride_TTL = suburban_total_rides.sum()\n",
    "TTL_suburban = (suburban_total_rides.sum()/rides_TTL).round(2)\n",
    "TTL_suburban\n",
    "\n",
    "\n",
    "rural_total_rides=rural_rides['ride_id'].count()\n",
    "rural_ride_TTL = rural_total_rides.sum()\n",
    "TTL_rural = (rural_total_rides.sum()/rides_TTL).round(2)\n",
    "TTL_rural\n",
    "\n",
    "# Build Pie Chart\n",
    "# Labels for the sections of our pie chart\n",
    "\n",
    "labels = [\"Urban\", \"Suburban\", \"Rural\"]\n",
    "\n",
    "\n",
    "# The values of each section of the pie chart\n",
    "\n",
    "sizes = [TTL_urban, TTL_suburban, TTL_rural]\n",
    "\n",
    "\n",
    "# The colors of each section of the pie chart\n",
    "\n",
    "colors = [\"coral\", \"lightskyblue\", \"gold\"]\n",
    "\n",
    "\n",
    "# Tells matplotlib to seperate the \"Python\" section from the others\n",
    "\n",
    "explode = (0.1, 0, 0)\n",
    "\n",
    "# Creates the pie chart based upon the values above\n",
    "\n",
    "# Automatically finds the percentages of each part of the pie chart\n",
    "\n",
    "plt.pie(sizes, explode=explode, labels=labels, colors=colors,\n",
    "        \n",
    "\tautopct=\"%1.1f%%\", shadow=True, startangle=300)\n",
    "\n",
    "# Tells matplotlib that we want a pie chart with equal axes\n",
    "\n",
    "plt.axis(\"equal\")\n",
    "plt.title(\"% of Total Rides by City Type\")\n",
    "plt.savefig(\"../Images/TotalRidesbyCity.png\")\n",
    "plt.show()\n",
    "# Save Figure\n"
   ]
  },
  {
   "cell_type": "code",
   "execution_count": null,
   "metadata": {},
   "outputs": [],
   "source": []
  },
  {
   "cell_type": "code",
   "execution_count": 15,
   "metadata": {
    "scrolled": true
   },
   "outputs": [],
   "source": [
    "# Show Figure\n",
    "plt.show()"
   ]
  },
  {
   "cell_type": "markdown",
   "metadata": {},
   "source": [
    "## Total Drivers by City Type"
   ]
  },
  {
   "cell_type": "code",
   "execution_count": 16,
   "metadata": {},
   "outputs": [
    {
     "data": {
      "image/png": "[encoded data removed]",
      "text/plain": [
       "<Figure size 432x288 with 1 Axes>"
      ]
     },
     "metadata": {},
     "output_type": "display_data"
    }
   ],
   "source": [
    "# Calculate Ride Percents\n",
    "total_rides = pydata['ride_id'].value_counts()\n",
    "rides_TTL = total_rides.sum()\n",
    "rides_TTL\n",
    "\n",
    "\n",
    "urban_total_rides=urban_rides['ride_id'].count()\n",
    "urban_ride_TTL = urban_total_rides.sum()\n",
    "TTL_urban = (urban_total_rides.sum()/rides_TTL).round(2)\n",
    "TTL_urban\n",
    "\n",
    "suburban_total_rides=Suburban_rides['ride_id'].count()\n",
    "suburban_ride_TTL = suburban_total_rides.sum()\n",
    "TTL_suburban = (suburban_total_rides.sum()/rides_TTL).round(2)\n",
    "TTL_suburban\n",
    "\n",
    "\n",
    "rural_total_rides=rural_rides['ride_id'].count()\n",
    "rural_ride_TTL = rural_total_rides.sum()\n",
    "TTL_rural = (rural_total_rides.sum()/rides_TTL).round(2)\n",
    "TTL_rural\n",
    "\n",
    "# Build Pie Chart\n",
    "# Labels for the sections of our pie chart\n",
    "\n",
    "labels = [\"Urban\", \"Suburban\", \"Rural\"]\n",
    "\n",
    "\n",
    "# The values of each section of the pie chart\n",
    "\n",
    "sizes = [TTL_urban, TTL_suburban, TTL_rural]\n",
    "\n",
    "\n",
    "# The colors of each section of the pie chart\n",
    "\n",
    "colors = [\"coral\", \"lightskyblue\", \"gold\"]\n",
    "\n",
    "\n",
    "# Tells matplotlib to seperate the \"Python\" section from the others\n",
    "\n",
    "explode = (0.1, 0, 0)\n",
    "\n",
    "# Creates the pie chart based upon the values above\n",
    "\n",
    "# Automatically finds the percentages of each part of the pie chart\n",
    "\n",
    "plt.pie(sizes, explode=explode, labels=labels, colors=colors,\n",
    "        \n",
    "\tautopct=\"%1.1f%%\", shadow=True, startangle=300)\n",
    "\n",
    "# Tells matplotlib that we want a pie chart with equal axes\n",
    "\n",
    "plt.axis(\"equal\")\n",
    "plt.title(\"% of Total Rides by City Type\")\n",
    "plt.savefig(\"../Images/TotalRidesbyCity.png\")\n",
    "plt.show()\n",
    "# Save Figure\n"
   ]
  },
  {
   "cell_type": "code",
   "execution_count": 17,
   "metadata": {
    "scrolled": true
   },
   "outputs": [],
   "source": [
    "# Show Figure\n",
    "plt.show()"
   ]
  },
  {
   "cell_type": "code",
   "execution_count": 18,
   "metadata": {},
   "outputs": [],
   "source": [
    "# total_drivers_city = cities['driver_count'].max()\n",
    "# total_drivers_city.sum()"
   ]
  },
  {
   "cell_type": "code",
   "execution_count": 19,
   "metadata": {},
   "outputs": [
    {
     "data": {
      "text/plain": [
       "2405"
      ]
     },
     "execution_count": 19,
     "metadata": {},
     "output_type": "execute_result"
    }
   ],
   "source": [
    "urban_drivers=(urban_rides['driver_count'].max())\n",
    "urban_drivers.sum()"
   ]
  },
  {
   "cell_type": "code",
   "execution_count": 21,
   "metadata": {},
   "outputs": [
    {
     "data": {
      "text/plain": [
       "490"
      ]
     },
     "execution_count": 21,
     "metadata": {},
     "output_type": "execute_result"
    }
   ],
   "source": [
    "suburban_drivers=(Suburban_rides['driver_count'].max())\n",
    "suburban_drivers.sum()\n"
   ]
  },
  {
   "cell_type": "code",
   "execution_count": 22,
   "metadata": {},
   "outputs": [
    {
     "data": {
      "text/plain": [
       "78"
      ]
     },
     "execution_count": 22,
     "metadata": {},
     "output_type": "execute_result"
    }
   ],
   "source": [
    "rural_drivers=(rural_rides['driver_count'].max())\n",
    "rural_drivers.sum()"
   ]
  },
  {
   "cell_type": "code",
   "execution_count": 23,
   "metadata": {},
   "outputs": [
    {
     "data": {
      "image/png": "[encoded data removed]",
      "text/plain": [
       "<Figure size 432x288 with 1 Axes>"
      ]
     },
     "metadata": {},
     "output_type": "display_data"
    }
   ],
   "source": [
    "# Build Pie Chart\n",
    "# Labels for the sections of our pie chart\n",
    "\n",
    "labels = [\"Urban\", \"Suburban\", \"Rural\"]\n",
    "\n",
    "\n",
    "# The values of each section of the pie chart\n",
    "\n",
    "sizes = [urban_drivers.sum(), suburban_drivers.sum(), rural_drivers.sum()]\n",
    "\n",
    "\n",
    "# The colors of each section of the pie chart\n",
    "\n",
    "colors = [\"coral\", \"lightskyblue\", \"gold\"]\n",
    "\n",
    "\n",
    "# Tells matplotlib to seperate the \"Python\" section from the others\n",
    "\n",
    "explode = (0.1, 0, 0)\n",
    "\n",
    "# Creates the pie chart based upon the values above\n",
    "\n",
    "# Automatically finds the percentages of each part of the pie chart\n",
    "\n",
    "plt.pie(sizes, explode=explode, labels=labels, colors=colors,\n",
    "        \n",
    "\tautopct=\"%1.1f%%\", shadow=True, startangle=240)\n",
    "\n",
    "# Tells matplotlib that we want a pie chart with equal axes\n",
    "\n",
    "plt.axis(\"equal\")\n",
    "plt.title(\"% of Total Drivers by City Type\")\n",
    "plt.savefig(\"../Images/TotalDriversbyCity.png\")\n",
    "plt.show()\n",
    "# Save Figure\n"
   ]
  },
  {
   "cell_type": "code",
   "execution_count": 24,
   "metadata": {},
   "outputs": [
    {
     "data": {
      "text/plain": [
       "55.48628205128205"
      ]
     },
     "execution_count": 24,
     "metadata": {},
     "output_type": "execute_result"
    }
   ],
   "source": [
    "rural_fares_drivers = rural_faresTTL/rural_drivers.sum()\n",
    "rural_fares_drivers\n",
    "#rural_drivers.sum()"
   ]
  },
  {
   "cell_type": "code",
   "execution_count": 25,
   "metadata": {},
   "outputs": [
    {
     "data": {
      "text/plain": [
       "39.50271428571429"
      ]
     },
     "execution_count": 25,
     "metadata": {},
     "output_type": "execute_result"
    }
   ],
   "source": [
    "suburban_fares_drivers = suburban_faresTTL/suburban_drivers.sum()\n",
    "suburban_fares_drivers"
   ]
  },
  {
   "cell_type": "code",
   "execution_count": 26,
   "metadata": {},
   "outputs": [
    {
     "data": {
      "text/plain": [
       "16.57146777546778"
      ]
     },
     "execution_count": 26,
     "metadata": {},
     "output_type": "execute_result"
    }
   ],
   "source": [
    "urban_fares_drivers = urban_faresTTL/urban_drivers.sum()\n",
    "urban_fares_drivers"
   ]
  },
  {
   "cell_type": "code",
   "execution_count": 27,
   "metadata": {},
   "outputs": [
    {
     "data": {
      "text/plain": [
       "'2018-01-01 00:08:16'"
      ]
     },
     "execution_count": 27,
     "metadata": {},
     "output_type": "execute_result"
    }
   ],
   "source": [
    "pydata['date'] : [np.min, np.max]\n",
    "pydata['date'].min()"
   ]
  },
  {
   "cell_type": "code",
   "execution_count": 28,
   "metadata": {},
   "outputs": [
    {
     "data": {
      "text/plain": [
       "'2018-05-08 13:10:18'"
      ]
     },
     "execution_count": 28,
     "metadata": {},
     "output_type": "execute_result"
    }
   ],
   "source": [
    "pydata['date'].max()"
   ]
  },
  {
   "cell_type": "code",
   "execution_count": 29,
   "metadata": {},
   "outputs": [
    {
     "data": {
      "image/png": "[encoded data removed]",
      "text/plain": [
       "<Figure size 432x288 with 1 Axes>"
      ]
     },
     "metadata": {},
     "output_type": "display_data"
    }
   ],
   "source": [
    "# Build Pie Chart\n",
    "# Labels for the sections of our pie chart\n",
    "\n",
    "labels = [\"Urban\", \"Suburban\", \"Rural\"]\n",
    "\n",
    "\n",
    "# The values of each section of the pie chart\n",
    "\n",
    "sizes = [urban_fares_drivers, suburban_fares_drivers, rural_fares_drivers]\n",
    "\n",
    "\n",
    "# The colors of each section of the pie chart\n",
    "\n",
    "colors = [\"coral\", \"lightskyblue\", \"gold\"]\n",
    "\n",
    "\n",
    "# Tells matplotlib to seperate the \"Python\" section from the others\n",
    "\n",
    "explode = (0.1, 0, 0)\n",
    "\n",
    "# Creates the pie chart based upon the values above\n",
    "\n",
    "# Automatically finds the percentages of each part of the pie chart\n",
    "\n",
    "plt.pie(sizes, explode=explode, labels=labels, colors=colors,\n",
    "        \n",
    "\tautopct=\"%1.1f%%\", shadow=True, startangle=240)\n",
    "\n",
    "# Tells matplotlib that we want a pie chart with equal axes\n",
    "\n",
    "plt.axis(\"equal\")\n",
    "plt.title(\"% Fare to Driver Revenue by City Type\")\n",
    "plt.savefig(\"../Images/FaretoDriversbyCity.png\")\n",
    "plt.show()\n",
    "# Save Figure\n"
   ]
  },
  {
   "cell_type": "code",
   "execution_count": null,
   "metadata": {},
   "outputs": [],
   "source": []
  },
  {
   "cell_type": "code",
   "execution_count": null,
   "metadata": {},
   "outputs": [],
   "source": []
  }
 ],
 "metadata": {
  "anaconda-cloud": {},
  "kernelspec": {
   "display_name": "Python 3",
   "language": "python",
   "name": "python3"
  },
  "language_info": {
   "codemirror_mode": {
    "name": "ipython",
    "version": 3
   },
   "file_extension": ".py",
   "mimetype": "text/x-python",
   "name": "python",
   "nbconvert_exporter": "python",
   "pygments_lexer": "ipython3",
   "version": "3.7.1"
  }
 },
 "nbformat": 4,
 "nbformat_minor": 2
}
